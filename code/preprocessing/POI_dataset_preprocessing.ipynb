{
 "cells": [
  {
   "cell_type": "code",
   "execution_count": 1,
   "metadata": {
    "ExecuteTime": {
     "end_time": "2021-12-07T22:42:24.134622Z",
     "start_time": "2021-12-07T22:42:23.019838Z"
    }
   },
   "outputs": [],
   "source": [
    "# imports\n",
    "\n",
    "import pandas as pd\n",
    "import matplotlib.pyplot as plt\n",
    "import seaborn as sns\n",
    "import numpy as np\n",
    "\n",
    "pd.set_option(\"display.max_rows\", 70)"
   ]
  },
  {
   "cell_type": "code",
   "execution_count": 2,
   "metadata": {
    "ExecuteTime": {
     "end_time": "2021-12-07T23:32:56.440740Z",
     "start_time": "2021-12-07T23:32:55.837911Z"
    }
   },
   "outputs": [
    {
     "name": "stderr",
     "output_type": "stream",
     "text": [
      "C:\\Users\\Margni\\.virtualenvs\\code_blueprint-DgG63NCU\\lib\\site-packages\\IPython\\core\\interactiveshell.py:3457: DtypeWarning: Columns (18,20) have mixed types.Specify dtype option on import or set low_memory=False.\n",
      "  exec(code_obj, self.user_global_ns, self.user_ns)\n"
     ]
    }
   ],
   "source": [
    "# importing dataset\n",
    "\n",
    "\n",
    "## for desktop\n",
    "df = pd.read_csv(r\"..\\..\\sources\\initial_datasets\\initial_CH_POI_dataset.osm\", sep = \"|\")\n",
    "\n"
   ]
  },
  {
   "cell_type": "code",
   "execution_count": 3,
   "metadata": {},
   "outputs": [
    {
     "data": {
      "text/plain": "array(['BUSSTOP', 'VILLAGE', 'FUEL', 'CINEMA', 'HOTEL', 'CAFE',\n       'ATTRACTION', 'PARKING', 'FASTFOOD', 'STATION', 'RESTAURANT',\n       'TOWN', 'CITY', 'TRAMSTOP', 'PEAK', 'PUB', 'MONUMENT',\n       'FERRYTERMINAL', 'MEMORIAL', 'HAMLET', 'CHRISTIAN', 'SUBURB',\n       'THEATRE', 'CAMPING', 'BAR', 'POLICE', 'POSTOFFICE', 'ATM', 'GOLF',\n       'NURSERY', 'TOILETS', 'CLINIC', 'TOLLGATE', 'LIBRARY', 'MUSEUM',\n       'BANK', 'SUPERMARKET', 'ALPINEHUT', 'UNIVERSITY', 'SCHOOL',\n       'ARCHAELOGICAL', 'TOWNHALL', 'FIRESTATION', 'ISLAMIC', 'BUNKER',\n       'CONVENIENCE', 'SWIMMING', 'CAR', 'HOSTEL', 'DEPARTMENTSTORE',\n       'MILITARY', 'TOWER', 'BUDDHIST', 'FOUNTAIN', 'AIRPORT',\n       'INFORMATION', 'PHARMACY', 'SOCIALCARE', 'EVENTVENUE', 'ALCOHOL',\n       'CASTLE', 'KIOSK', 'HAIRDRESSER', 'JEWISH', 'LEISURECENTER',\n       'COLLEGE', 'ART', 'GOVERNMENT', 'ICESKATING', 'BAKERY',\n       'GUESTHOUSE', 'PUBLICBUILDING', 'SOCCER', 'BOOK', 'CLOTHES', 'DIY',\n       'NIGHTCLUB', 'BICYCLE', 'MOTORRACING', 'SKIING', 'PLAYGROUND',\n       'SPORTS', 'SUBWAY', 'FURNITURE', 'ELECTRONICS', 'BUTCHER',\n       'TOWERCOMMUNICATION', 'INSURANCE', 'GYM', 'NEWSPAPER',\n       'EDUCATIONAL', 'TENNIS', 'BIERGARTEN', 'TAILOR', 'COSMETICS',\n       'ICECREAM', 'STADIUM', 'ROCK', 'BOWLING', 'FLORIST', 'PET',\n       'GARDENCENTRE', 'SHOES', 'VETERINARY', 'LAUNDRETTE', 'SHELTER',\n       'RENTALCAR', 'GIFT', 'MOTORCYCLE', 'CEMETERY', 'CLIMBING',\n       'REALESTATE', 'HORSE', 'CHALET', 'DOCTORS', 'RUINS', 'CARREPAIR',\n       'MOTEL', 'WATER', 'MARINA', 'CAVE', 'MUSIC', 'CONFECTIONERY',\n       'COURT', 'SKATING', 'AUDIOVISUAL', 'THEMEPARK', 'SHOOTING',\n       'CONSTRUCTION', 'CARWASH', 'CURRENCY', 'CRICKET', 'COPYSHOP',\n       'DENTIST', 'WATCHES', 'PHOTO', 'COMPUTER', 'SNOOKER', 'OPTICIAN',\n       'PARK', 'VIDEORENTAL', 'JEWELRY', 'ZOO', 'CARAVAN', 'TOYS', 'FISH',\n       'HEARINGAIDS', 'MASSAGE', 'BATTLEFIELD', 'CLOCK', 'LEGAL',\n       'WINDMILL', 'LIGHTHOUSE', 'PHONE', 'WATERMILL', 'KITCHEN',\n       'TATTOO', 'INDUSTRIAL', 'TELECOM', 'FINANCIAL', 'ARCHERY',\n       'CASINO', 'TOBACCO', 'GREENGROCER', 'BEACH', 'CHARGINGSTATION',\n       'TRAVELAGENCY', 'PRESS', 'WRECK', 'EMPLOYMENT', 'IT',\n       'EMERGENCYSTATION', 'SCRUB', 'FARM', 'PRISON', 'NGO', 'APPLIANCE',\n       'GUN', 'WATERTOWER', 'MARKETPLACE', 'CANOE', 'FOUNDATION',\n       'BABYGOODS', 'VOLLEYBALL', 'ADVERTISING', 'WATERSKI',\n       'AIRTERMINAL', 'MINESHAFT', 'UNKNOWN', 'PAWNBROKER', 'RETAIL',\n       'ASSOCIATION', 'HINDU', 'ENERGY', 'GAMPLING', 'HOCKEY',\n       'BASKETBALL', 'HOSPITAL', 'DIVING', 'INTERNETCAFE', 'GATE',\n       'SURFING', 'EMBASSY', 'GLACIER', 'FOOTBALL', 'BASEBALL', 'GRASS',\n       'SWAMP', 'RUGBY'], dtype=object)"
     },
     "execution_count": 3,
     "metadata": {},
     "output_type": "execute_result"
    }
   ],
   "source": [
    "df[\"SUBCATEGORY\"].unique()\n"
   ]
  },
  {
   "cell_type": "code",
   "execution_count": 4,
   "metadata": {},
   "outputs": [
    {
     "data": {
      "text/plain": "SUBCATEGORY\nBUSSTOP        20815\nHAMLET         16015\nRESTAURANT     15376\nSCHOOL          5987\nPEAK            5671\n               ...  \nLIGHTHOUSE         2\nWRECK              2\nRUGBY              1\nWINDMILL           1\nDIVING             1\nLength: 209, dtype: int64"
     },
     "execution_count": 4,
     "metadata": {},
     "output_type": "execute_result"
    }
   ],
   "source": [
    "df[[\"SUBCATEGORY\"]].value_counts()"
   ]
  },
  {
   "cell_type": "code",
   "execution_count": 5,
   "metadata": {},
   "outputs": [
    {
     "data": {
      "text/plain": "ID                         0\nNAME                       0\nCATEGORY                   0\nSUBCATEGORY                0\nLON                        0\nLAT                        0\nSRID                       0\nWKT                        0\nINTERNATIONAL_NAME    178147\nSTREET                129986\nWIKIPEDIA             172436\nPHONE                 155010\nCITY                  135960\nEMAIL                 168087\nALTERNATIVE_NAME      169387\nOPENING_HOURS         150092\nDESCRIPTION           175653\nWEBSITE               136792\nLAST_UPDATE           178099\nOPERATOR              132629\nPOSTCODE              131779\nCOUNTRY               162195\nFAX                   175439\nIMAGE                 177228\nHOUSENUMBER           132064\nOTHER_TAGS                 0\ndtype: int64"
     },
     "execution_count": 5,
     "metadata": {},
     "output_type": "execute_result"
    }
   ],
   "source": [
    "# missing values count\n",
    "\n",
    "df.isnull().sum() # no missing values for important features"
   ]
  },
  {
   "cell_type": "code",
   "execution_count": 6,
   "metadata": {},
   "outputs": [],
   "source": [
    "df = df.drop([\"SRID\",\"WKT\", \"WIKIPEDIA\", \"PHONE\",\"STREET\", \"LAST_UPDATE\", \"ID\", \"OPERATOR\", \"POSTCODE\", \"FAX\", \"IMAGE\", \"HOUSENUMBER\", \"INTERNATIONAL_NAME\", \"ALTERNATIVE_NAME\", \"EMAIL\", \"COUNTRY\", \"DESCRIPTION\", \"WEBSITE\"], axis = 1)"
   ]
  },
  {
   "cell_type": "code",
   "execution_count": 7,
   "metadata": {},
   "outputs": [],
   "source": [
    "df = df[(df[\"LAT\"] < 90) & (df[\"LAT\"] > -90) & (df[\"LON\"] > -90)  & (df[\"LON\"] < 90)]"
   ]
  },
  {
   "cell_type": "code",
   "execution_count": 8,
   "metadata": {},
   "outputs": [],
   "source": [
    "# splitting the dataset in poi and hotel datasets\n",
    "\n",
    "poi_df, hotels_df = [x for _, x in df.groupby(df['SUBCATEGORY'] == \"HOTEL\")]\n"
   ]
  },
  {
   "cell_type": "code",
   "execution_count": 9,
   "metadata": {},
   "outputs": [
    {
     "data": {
      "text/plain": "                                       NAME       CATEGORY SUBCATEGORY  \\\n0                          Clos de l'Ombren      TRANSPORT     BUSSTOP   \n1                              Güterbahnhof      TRANSPORT     BUSSTOP   \n2                                   Nations      TRANSPORT     BUSSTOP   \n3                                   Morgins    SETTLEMENTS     VILLAGE   \n4                                  Champéry    SETTLEMENTS     VILLAGE   \n...                                     ...            ...         ...   \n178218              Parkhaus Bahnhof Sursee     AUTOMOTIVE     PARKING   \n178219                   Résidance La Sorne  PUBLICSERVICE  SOCIALCARE   \n178220                  Tertianum Gartenhof  PUBLICSERVICE  SOCIALCARE   \n178221  Zona Industriale Pobia / Via Résiga        LANDUSE  INDUSTRIAL   \n178222       Zona Industriale Pian Faloppia        LANDUSE  INDUSTRIAL   \n\n             LON        LAT        CITY OPENING_HOURS  \\\n0       6.954822  46.329489         NaN           NaN   \n1       8.519682  47.380436         NaN           NaN   \n2       6.139638  46.222755         NaN           NaN   \n3       6.858102  46.237659         NaN           NaN   \n4       6.868767  46.175679         NaN           NaN   \n...          ...        ...         ...           ...   \n178218  8.097286  47.172344         NaN          24/7   \n178219  7.353392  47.367783         NaN           NaN   \n178220  8.688531  47.507789  Winterthur           NaN   \n178221  8.996186  45.839151         NaN           NaN   \n178222  9.005460  45.837454         NaN           NaN   \n\n                                               OTHER_TAGS  \n0       {\"bus\":\"yes\",\"uic_ref\":\"8587746\",\"name\":\"Clos ...  \n1       {\"bus\":\"yes\",\"ref\":\"1076\",\"uic_ref\":\"8591169\",...  \n2       {\"bus\":\"yes\",\"uic_ref\":\"8587058\",\"name\":\"Natio...  \n3       {\"openGeoDB:loc_id\":\"32130\",\"openGeoDB:name\":\"...  \n4       {\"openGeoDB:community_identification_number\":\"...  \n...                                                   ...  \n178218  {\"parking\":\"multi-storey\",\"access\":\"yes\",\"amen...  \n178219  {\"name\":\"Résidance La Sorne\",\"type\":\"multipoly...  \n178220  {\"amenity\":\"social_facility\",\"type\":\"multipoly...  \n178221  {\"landuse\":\"industrial\",\"name\":\"Zona Industria...  \n178222  {\"landuse\":\"industrial\",\"name\":\"Zona Industria...  \n\n[174343 rows x 8 columns]",
      "text/html": "<div>\n<style scoped>\n    .dataframe tbody tr th:only-of-type {\n        vertical-align: middle;\n    }\n\n    .dataframe tbody tr th {\n        vertical-align: top;\n    }\n\n    .dataframe thead th {\n        text-align: right;\n    }\n</style>\n<table border=\"1\" class=\"dataframe\">\n  <thead>\n    <tr style=\"text-align: right;\">\n      <th></th>\n      <th>NAME</th>\n      <th>CATEGORY</th>\n      <th>SUBCATEGORY</th>\n      <th>LON</th>\n      <th>LAT</th>\n      <th>CITY</th>\n      <th>OPENING_HOURS</th>\n      <th>OTHER_TAGS</th>\n    </tr>\n  </thead>\n  <tbody>\n    <tr>\n      <th>0</th>\n      <td>Clos de l'Ombren</td>\n      <td>TRANSPORT</td>\n      <td>BUSSTOP</td>\n      <td>6.954822</td>\n      <td>46.329489</td>\n      <td>NaN</td>\n      <td>NaN</td>\n      <td>{\"bus\":\"yes\",\"uic_ref\":\"8587746\",\"name\":\"Clos ...</td>\n    </tr>\n    <tr>\n      <th>1</th>\n      <td>Güterbahnhof</td>\n      <td>TRANSPORT</td>\n      <td>BUSSTOP</td>\n      <td>8.519682</td>\n      <td>47.380436</td>\n      <td>NaN</td>\n      <td>NaN</td>\n      <td>{\"bus\":\"yes\",\"ref\":\"1076\",\"uic_ref\":\"8591169\",...</td>\n    </tr>\n    <tr>\n      <th>2</th>\n      <td>Nations</td>\n      <td>TRANSPORT</td>\n      <td>BUSSTOP</td>\n      <td>6.139638</td>\n      <td>46.222755</td>\n      <td>NaN</td>\n      <td>NaN</td>\n      <td>{\"bus\":\"yes\",\"uic_ref\":\"8587058\",\"name\":\"Natio...</td>\n    </tr>\n    <tr>\n      <th>3</th>\n      <td>Morgins</td>\n      <td>SETTLEMENTS</td>\n      <td>VILLAGE</td>\n      <td>6.858102</td>\n      <td>46.237659</td>\n      <td>NaN</td>\n      <td>NaN</td>\n      <td>{\"openGeoDB:loc_id\":\"32130\",\"openGeoDB:name\":\"...</td>\n    </tr>\n    <tr>\n      <th>4</th>\n      <td>Champéry</td>\n      <td>SETTLEMENTS</td>\n      <td>VILLAGE</td>\n      <td>6.868767</td>\n      <td>46.175679</td>\n      <td>NaN</td>\n      <td>NaN</td>\n      <td>{\"openGeoDB:community_identification_number\":\"...</td>\n    </tr>\n    <tr>\n      <th>...</th>\n      <td>...</td>\n      <td>...</td>\n      <td>...</td>\n      <td>...</td>\n      <td>...</td>\n      <td>...</td>\n      <td>...</td>\n      <td>...</td>\n    </tr>\n    <tr>\n      <th>178218</th>\n      <td>Parkhaus Bahnhof Sursee</td>\n      <td>AUTOMOTIVE</td>\n      <td>PARKING</td>\n      <td>8.097286</td>\n      <td>47.172344</td>\n      <td>NaN</td>\n      <td>24/7</td>\n      <td>{\"parking\":\"multi-storey\",\"access\":\"yes\",\"amen...</td>\n    </tr>\n    <tr>\n      <th>178219</th>\n      <td>Résidance La Sorne</td>\n      <td>PUBLICSERVICE</td>\n      <td>SOCIALCARE</td>\n      <td>7.353392</td>\n      <td>47.367783</td>\n      <td>NaN</td>\n      <td>NaN</td>\n      <td>{\"name\":\"Résidance La Sorne\",\"type\":\"multipoly...</td>\n    </tr>\n    <tr>\n      <th>178220</th>\n      <td>Tertianum Gartenhof</td>\n      <td>PUBLICSERVICE</td>\n      <td>SOCIALCARE</td>\n      <td>8.688531</td>\n      <td>47.507789</td>\n      <td>Winterthur</td>\n      <td>NaN</td>\n      <td>{\"amenity\":\"social_facility\",\"type\":\"multipoly...</td>\n    </tr>\n    <tr>\n      <th>178221</th>\n      <td>Zona Industriale Pobia / Via Résiga</td>\n      <td>LANDUSE</td>\n      <td>INDUSTRIAL</td>\n      <td>8.996186</td>\n      <td>45.839151</td>\n      <td>NaN</td>\n      <td>NaN</td>\n      <td>{\"landuse\":\"industrial\",\"name\":\"Zona Industria...</td>\n    </tr>\n    <tr>\n      <th>178222</th>\n      <td>Zona Industriale Pian Faloppia</td>\n      <td>LANDUSE</td>\n      <td>INDUSTRIAL</td>\n      <td>9.005460</td>\n      <td>45.837454</td>\n      <td>NaN</td>\n      <td>NaN</td>\n      <td>{\"landuse\":\"industrial\",\"name\":\"Zona Industria...</td>\n    </tr>\n  </tbody>\n</table>\n<p>174343 rows × 8 columns</p>\n</div>"
     },
     "execution_count": 9,
     "metadata": {},
     "output_type": "execute_result"
    }
   ],
   "source": [
    "poi_df"
   ]
  },
  {
   "cell_type": "code",
   "execution_count": 10,
   "metadata": {
    "collapsed": false,
    "pycharm": {
     "name": "#%%\n"
    }
   },
   "outputs": [],
   "source": [
    "# removing HAMLET AND BUSSTOP poi because not very useful\n",
    "\n",
    "poi_df = poi_df[(poi_df.SUBCATEGORY != \"HAMLET\") & (poi_df.SUBCATEGORY != \"BUSSTOP\")]\n"
   ]
  },
  {
   "cell_type": "code",
   "execution_count": 11,
   "metadata": {},
   "outputs": [],
   "source": [
    "# \n",
    "# # adding the city for every poi\n",
    "# from geopy.geocoders import Nominatim\n",
    "# \n",
    "# geolocator = Nominatim(user_agent = \"web_service_project\")\n",
    "# nan_count = 0\n",
    "# \n",
    "# for i in poi_df.iloc[0:10000].index:\n",
    "# \n",
    "#     latitude = poi_df.loc[i, \"LAT\"]\n",
    "#     longitude = poi_df.loc[i, \"LON\"]\n",
    "#     location = geolocator.reverse(str(latitude) + \", \" + str(longitude))\n",
    "#     address = location.raw['address']\n",
    "# \n",
    "#     if \"city\" in address:\n",
    "#         poi_df.loc[i, \"CITY\"] = address[\"city\"]\n",
    "#     elif \"town\" in address:\n",
    "#         poi_df.loc[i, \"CITY\"] = address[\"town\"]\n",
    "#     elif \"village\" in address:\n",
    "#         poi_df.loc[i, \"CITY\"] = address[\"village\"]\n",
    "#     else:\n",
    "#         poi_df.loc[i, \"CITY\"] = np.nan\n",
    "#         nan_count += 1\n",
    "# \n",
    "# print(nan_count)\n"
   ]
  },
  {
   "cell_type": "code",
   "execution_count": 12,
   "metadata": {
    "collapsed": false,
    "pycharm": {
     "name": "#%%\n"
    }
   },
   "outputs": [
    {
     "name": "stderr",
     "output_type": "stream",
     "text": [
      "C:\\Users\\Margni\\AppData\\Local\\Temp/ipykernel_4552/910059090.py:1: SettingWithCopyWarning: \n",
      "A value is trying to be set on a copy of a slice from a DataFrame.\n",
      "Try using .loc[row_indexer,col_indexer] = value instead\n",
      "\n",
      "See the caveats in the documentation: https://pandas.pydata.org/pandas-docs/stable/user_guide/indexing.html#returning-a-view-versus-a-copy\n",
      "  poi_df[\"countryName\"] = \"Switzerland\"\n"
     ]
    }
   ],
   "source": [
    "poi_df[\"countryName\"] = \"Switzerland\""
   ]
  },
  {
   "cell_type": "code",
   "execution_count": 12,
   "metadata": {},
   "outputs": [],
   "source": []
  },
  {
   "cell_type": "code",
   "execution_count": 13,
   "metadata": {
    "collapsed": false,
    "pycharm": {
     "name": "#%%\n"
    }
   },
   "outputs": [],
   "source": [
    "poi_df = poi_df.rename(columns={'NAME': 'poiName', 'CATEGORY': 'category', 'SUBCATEGORY': 'subcategory', \"LAT\": \"latitude\",\n",
    "                                'LON': 'longitude', 'OPENING_HOURS': 'openingHours','CITY': 'cityName', 'OTHER_TAGS': \"otherTags\"})"
   ]
  },
  {
   "cell_type": "code",
   "execution_count": 14,
   "metadata": {},
   "outputs": [],
   "source": [
    "hotels_df.to_csv(\"../../sources/initial_datasets/hotels_df_from_poi.csv\")\n",
    "\n",
    "poi_df.to_csv(\"../../sources/finite_datasets/poi_dataset.csv\")"
   ]
  }
 ],
 "metadata": {
  "kernelspec": {
   "display_name": "Python 3",
   "language": "python",
   "name": "python3"
  },
  "language_info": {
   "codemirror_mode": {
    "name": "ipython",
    "version": 3
   },
   "file_extension": ".py",
   "mimetype": "text/x-python",
   "name": "python",
   "nbconvert_exporter": "python",
   "pygments_lexer": "ipython3",
   "version": "3.9.10"
  },
  "varInspector": {
   "cols": {
    "lenName": 16,
    "lenType": 16,
    "lenVar": 40
   },
   "kernels_config": {
    "python": {
     "delete_cmd_postfix": "",
     "delete_cmd_prefix": "del ",
     "library": "var_list.py",
     "varRefreshCmd": "print(var_dic_list())"
    },
    "r": {
     "delete_cmd_postfix": ") ",
     "delete_cmd_prefix": "rm(",
     "library": "var_list.r",
     "varRefreshCmd": "cat(var_dic_list()) "
    }
   },
   "types_to_exclude": [
    "module",
    "function",
    "builtin_function_or_method",
    "instance",
    "_Feature"
   ],
   "window_display": false
  }
 },
 "nbformat": 4,
 "nbformat_minor": 4
}