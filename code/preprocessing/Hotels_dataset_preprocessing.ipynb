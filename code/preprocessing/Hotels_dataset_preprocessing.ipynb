{
 "cells": [
  {
   "cell_type": "code",
   "execution_count": 1,
   "metadata": {
    "ExecuteTime": {
     "end_time": "2021-12-07T22:42:24.134622Z",
     "start_time": "2021-12-07T22:42:23.019838Z"
    }
   },
   "outputs": [],
   "source": [
    "# imports\n",
    "\n",
    "import pandas as pd\n",
    "import matplotlib.pyplot as plt\n",
    "import numpy as np"
   ]
  },
  {
   "cell_type": "code",
   "execution_count": 2,
   "metadata": {
    "ExecuteTime": {
     "end_time": "2021-12-07T23:32:56.440740Z",
     "start_time": "2021-12-07T23:32:55.837911Z"
    }
   },
   "outputs": [
    {
     "name": "stderr",
     "output_type": "stream",
     "text": [
      "C:\\Users\\Margni\\.virtualenvs\\code_blueprint-DgG63NCU\\lib\\site-packages\\IPython\\core\\interactiveshell.py:3457: DtypeWarning: Columns (9) have mixed types.Specify dtype option on import or set low_memory=False.\n",
      "  exec(code_obj, self.user_global_ns, self.user_ns)\n"
     ]
    }
   ],
   "source": [
    "# importing dataset\n",
    "\n",
    "df = pd.read_csv(r\"..\\..\\sources\\initial_datasets\\initial_hotels_dataset.csv\", sep = ';')\n"
   ]
  },
  {
   "cell_type": "code",
   "execution_count": 3,
   "metadata": {},
   "outputs": [
    {
     "name": "stdout",
     "output_type": "stream",
     "text": [
      "United States                     46293\n",
      "Italy                             24414\n",
      "United Kingdom                    19400\n",
      "Germany                           17339\n",
      "China                             16824\n",
      "                                  ...  \n",
      "Sao Tome And Principe                 1\n",
      "Afghanistan                           1\n",
      "Eritrea                               1\n",
      "Montserrat                            1\n",
      "Federated States Of Micronesia        1\n",
      "Name: countryName, Length: 210, dtype: int64\n"
     ]
    }
   ],
   "source": [
    "print(df['countryName'].value_counts())"
   ]
  },
  {
   "cell_type": "code",
   "execution_count": 4,
   "metadata": {
    "ExecuteTime": {
     "end_time": "2021-12-07T22:41:23.109890Z",
     "start_time": "2021-12-07T22:41:23.099725Z"
    }
   },
   "outputs": [
    {
     "data": {
      "text/plain": [
       "hotelName          0\n",
       "stars              0\n",
       "price              0\n",
       "cityName           0\n",
       "countryCode      104\n",
       "countryName        0\n",
       "address            0\n",
       "location           0\n",
       "url            85348\n",
       "latitude           0\n",
       "longitude          0\n",
       "dtype: int64"
      ]
     },
     "execution_count": 4,
     "metadata": {},
     "output_type": "execute_result"
    }
   ],
   "source": [
    "# missing values count\n",
    "\n",
    "df.isnull().sum() # no missing values for important features"
   ]
  },
  {
   "cell_type": "code",
   "execution_count": 5,
   "metadata": {
    "ExecuteTime": {
     "end_time": "2021-12-07T22:41:24.658767Z",
     "start_time": "2021-12-07T22:41:24.619564Z"
    }
   },
   "outputs": [
    {
     "data": {
      "text/html": [
       "<div>\n",
       "<style scoped>\n",
       "    .dataframe tbody tr th:only-of-type {\n",
       "        vertical-align: middle;\n",
       "    }\n",
       "\n",
       "    .dataframe tbody tr th {\n",
       "        vertical-align: top;\n",
       "    }\n",
       "\n",
       "    .dataframe thead th {\n",
       "        text-align: right;\n",
       "    }\n",
       "</style>\n",
       "<table border=\"1\" class=\"dataframe\">\n",
       "  <thead>\n",
       "    <tr style=\"text-align: right;\">\n",
       "      <th></th>\n",
       "      <th>price</th>\n",
       "    </tr>\n",
       "  </thead>\n",
       "  <tbody>\n",
       "    <tr>\n",
       "      <th>count</th>\n",
       "      <td>293534.000000</td>\n",
       "    </tr>\n",
       "    <tr>\n",
       "      <th>mean</th>\n",
       "      <td>21364.140144</td>\n",
       "    </tr>\n",
       "    <tr>\n",
       "      <th>std</th>\n",
       "      <td>40895.373526</td>\n",
       "    </tr>\n",
       "    <tr>\n",
       "      <th>min</th>\n",
       "      <td>4.000000</td>\n",
       "    </tr>\n",
       "    <tr>\n",
       "      <th>25%</th>\n",
       "      <td>60.000000</td>\n",
       "    </tr>\n",
       "    <tr>\n",
       "      <th>50%</th>\n",
       "      <td>94.000000</td>\n",
       "    </tr>\n",
       "    <tr>\n",
       "      <th>75%</th>\n",
       "      <td>210.000000</td>\n",
       "    </tr>\n",
       "    <tr>\n",
       "      <th>max</th>\n",
       "      <td>99999.000000</td>\n",
       "    </tr>\n",
       "  </tbody>\n",
       "</table>\n",
       "</div>"
      ],
      "text/plain": [
       "               price\n",
       "count  293534.000000\n",
       "mean    21364.140144\n",
       "std     40895.373526\n",
       "min         4.000000\n",
       "25%        60.000000\n",
       "50%        94.000000\n",
       "75%       210.000000\n",
       "max     99999.000000"
      ]
     },
     "execution_count": 5,
     "metadata": {},
     "output_type": "execute_result"
    }
   ],
   "source": [
    "df[[\"price\"]].describe()"
   ]
  },
  {
   "cell_type": "code",
   "execution_count": 6,
   "metadata": {
    "ExecuteTime": {
     "end_time": "2021-12-07T22:44:52.524025Z",
     "start_time": "2021-12-07T22:44:52.499771Z"
    }
   },
   "outputs": [],
   "source": [
    "# filling 99'999 prices to NaN\n",
    "\n",
    "df[\"price\"] = np.where(df[\"price\"] == 99999, np.nan, df[\"price\"])"
   ]
  },
  {
   "cell_type": "code",
   "execution_count": 7,
   "metadata": {
    "ExecuteTime": {
     "end_time": "2021-12-07T23:33:51.639282Z",
     "start_time": "2021-12-07T23:33:51.533238Z"
    }
   },
   "outputs": [
    {
     "name": "stderr",
     "output_type": "stream",
     "text": [
      "C:\\Users\\Margni\\.virtualenvs\\code_blueprint-DgG63NCU\\lib\\site-packages\\seaborn\\_decorators.py:36: FutureWarning: Pass the following variable as a keyword arg: x. From version 0.12, the only valid positional argument will be `data`, and passing other arguments without an explicit keyword will result in an error or misinterpretation.\n",
      "  warnings.warn(\n"
     ]
    },
    {
     "data": {
      "text/plain": [
       "<AxesSubplot:xlabel='price'>"
      ]
     },
     "execution_count": 7,
     "metadata": {},
     "output_type": "execute_result"
    },
    {
     "data": {
      "image/png": "[encoded data removed]",
      "text/plain": [
       "<Figure size 432x288 with 1 Axes>"
      ]
     },
     "metadata": {
      "needs_background": "light"
     },
     "output_type": "display_data"
    }
   ],
   "source": [
    "sns.boxplot(df[\"price\"])"
   ]
  },
  {
   "cell_type": "code",
   "execution_count": 8,
   "metadata": {},
   "outputs": [],
   "source": [
    "df = df[pd.to_numeric(df['latitude'], errors='coerce').notnull()]\n",
    "df = df[pd.to_numeric(df['longitude'], errors='coerce').notnull()]\n",
    "df = df.astype({\"latitude\": float, \"longitude\": float})\n",
    "\n",
    "df = df[(df[\"longitude\"] < 90) & (df[\"longitude\"] > -90) & (df[\"latitude\"] > -90)  & (df[\"latitude\"] < 90)]\n"
   ]
  },
  {
   "cell_type": "code",
   "execution_count": 9,
   "metadata": {},
   "outputs": [],
   "source": [
    "df1 = df[df[\"countryCode\"] == \"CH\"]\n",
    "df1 = df1[[\"hotelName\", \"stars\", \"price\", \"countryName\", \"cityName\", \"address\",\"url\", \"latitude\", \"longitude\"]]"
   ]
  },
  {
   "cell_type": "code",
   "execution_count": null,
   "outputs": [],
   "source": [
    "# function to calculate distance\n",
    "\n",
    "from math import sin, cos, sqrt, atan2, radians\n",
    "\n",
    "\n",
    "def calculate_distance(lat1, lon1, lat2, lon2):\n",
    "# approximate radius of earth in km\n",
    "    R = 6373.0\n",
    "\n",
    "    lat1 = radians(lat1)\n",
    "    lon1 = radians(lon1)\n",
    "    lat2 = radians(lat2)\n",
    "    lon2 = radians(lon2)\n",
    "    dlon = lon2 - lon1\n",
    "    dlat = lat2 - lat1\n",
    "\n",
    "    a = sin(dlat / 2)**2 + cos(lat1) * cos(lat2) * sin(dlon / 2)**2\n",
    "    c = 2 * atan2(sqrt(a), sqrt(1 - a))\n",
    "\n",
    "    distance = R * c * 1000 # in meters\n",
    "\n",
    "    return distance\n",
    "\n"
   ],
   "metadata": {
    "collapsed": false,
    "pycharm": {
     "name": "#%%\n"
    }
   }
  },
  {
   "cell_type": "code",
   "execution_count": 11,
   "metadata": {},
   "outputs": [],
   "source": [
    "# calculate references found for hotels proportions \n",
    "\n",
    "# df2 = pd.read_csv(r\"..\\..\\sources\\initial_datasets\\hotels_df_from_poi.csv\", sep = ',')\n",
    "#\n",
    "#\n",
    "# n = 0\n",
    "# d = 0\n",
    "# o = 0\n",
    "# u = 0\n",
    "# for row2 in df2[0:100].iterrows():\n",
    "#     # print(\"---------------------------------------------------\")\n",
    "#     # print(row1[1][\"hotelName\"], row1[1][\"stars\"])\n",
    "#     n += 1\n",
    "#     one = True\n",
    "#     only_one = 0\n",
    "#\n",
    "#     for row1 in df1.iterrows():\n",
    "#         if calculate_distance(row1[1][\"latitude\"], row1[1][\"longitude\"], row2[1][\"LAT\"], row2[1][\"LON\"]) < 20:\n",
    "#             # print(row2[1][\"NAME\"], row2[1][\"OTHER_TAGS\"])\n",
    "#             d += 1\n",
    "#             if only_one is False:\n",
    "#                 u += 1\n",
    "#                 only_one = True\n",
    "#             if one is False:\n",
    "#                 o += 1\n",
    "#             else:\n",
    "#                 one = False\n",
    "#             if only_one == 0:\n",
    "#                 only_one = False\n",
    "#\n",
    "#\n",
    "# print(f\"Number samples: {n}, n of hotels with almost a reference: {d}, n of hotels with more than 1 reference: {u}\")"
   ]
  },
  {
   "cell_type": "markdown",
   "source": [
    "using df1 as default and 1000 samples\n",
    "\n",
    " with 5 m   96 2 2\n",
    " with 10 m  210 6  5\n",
    " with 20 m  369 22 20\n",
    " with 30 m  478 60 52\n",
    " with 40 m  580 111 91\n",
    " with 50 m  699 190 131\n",
    "\n",
    "using df2 as default and 1000 samples\n",
    "\n",
    " with 5 m   122 2 2\n",
    " with 10 m  292 5 5\n",
    " with 20 m  469 18 18\n",
    " with 30 m  571 52 44\n",
    " with 40 m  658 102 83\n",
    "\n",
    "\n",
    "using df2 as default and all samples (~3879)\n",
    "\n",
    "with 20 m 1588 76 70"
   ],
   "metadata": {
    "collapsed": false
   }
  },
  {
   "cell_type": "code",
   "execution_count": 12,
   "metadata": {},
   "outputs": [],
   "source": [
    "df1.to_csv(\"../../sources/finite_datasets/hotels_dataset.csv\")"
   ]
  }
 ],
 "metadata": {
  "kernelspec": {
   "display_name": "Python 3",
   "language": "python",
   "name": "python3"
  },
  "language_info": {
   "codemirror_mode": {
    "name": "ipython",
    "version": 3
   },
   "file_extension": ".py",
   "mimetype": "text/x-python",
   "name": "python",
   "nbconvert_exporter": "python",
   "pygments_lexer": "ipython3",
   "version": "3.9.10"
  },
  "varInspector": {
   "cols": {
    "lenName": 16,
    "lenType": 16,
    "lenVar": 40
   },
   "kernels_config": {
    "python": {
     "delete_cmd_postfix": "",
     "delete_cmd_prefix": "del ",
     "library": "var_list.py",
     "varRefreshCmd": "print(var_dic_list())"
    },
    "r": {
     "delete_cmd_postfix": ") ",
     "delete_cmd_prefix": "rm(",
     "library": "var_list.r",
     "varRefreshCmd": "cat(var_dic_list()) "
    }
   },
   "types_to_exclude": [
    "module",
    "function",
    "builtin_function_or_method",
    "instance",
    "_Feature"
   ],
   "window_display": false
  }
 },
 "nbformat": 4,
 "nbformat_minor": 4
}